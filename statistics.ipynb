{
  "nbformat": 4,
  "nbformat_minor": 0,
  "metadata": {
    "colab": {
      "name": "statistics.ipynb",
      "version": "0.3.2",
      "provenance": [],
      "collapsed_sections": []
    },
    "kernelspec": {
      "name": "python3",
      "display_name": "Python 3"
    }
  },
  "cells": [
    {
      "cell_type": "code",
      "metadata": {
        "id": "1PPx17PSI2sx",
        "colab_type": "code",
        "colab": {
          "base_uri": "https://localhost:8080/",
          "height": 170
        },
        "outputId": "158640fc-7503-45f8-d4bd-fab96fd85e3f"
      },
      "source": [
        "import numpy as np\n",
        "from scipy import stats\n",
        "n=int(input())\n",
        "x=[int(input()) for i in range (n)]\n",
        "\n",
        "print(np.mean(x))\n",
        "print(np.median(x))\n",
        "print(stats.mode(x))\n",
        "print(np.std(x))"
      ],
      "execution_count": 1,
      "outputs": [
        {
          "output_type": "stream",
          "text": [
            "4\n",
            "3000\n",
            "200\n",
            "100\n",
            "1000\n",
            "1075.0\n",
            "600.0\n",
            "ModeResult(mode=array([100]), count=array([1]))\n",
            "1164.8497757221744\n"
          ],
          "name": "stdout"
        }
      ]
    }
  ]
}